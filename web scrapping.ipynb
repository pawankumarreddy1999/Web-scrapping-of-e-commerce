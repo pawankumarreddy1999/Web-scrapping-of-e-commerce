{
 "cells": [
  {
   "cell_type": "markdown",
   "id": "spoken-control",
   "metadata": {},
   "source": [
    "* Name: pavan kumar reddy\n",
    "* project name : Web Scrapping of e-commerce website"
   ]
  },
  {
   "cell_type": "code",
   "execution_count": 1,
   "id": "western-tiffany",
   "metadata": {},
   "outputs": [],
   "source": [
    "# importing required libraries\n",
    "import pandas as pd\n",
    "import numpy as np\n",
    "from bs4 import BeautifulSoup\n",
    "from urllib.request import urlopen as ureq\n",
    "import re"
   ]
  },
  {
   "cell_type": "code",
   "execution_count": 2,
   "id": "veterinary-nancy",
   "metadata": {},
   "outputs": [
    {
     "name": "stdout",
     "output_type": "stream",
     "text": [
      "https://www.flipkart.com/search?q=samsung+mobiles&sid=tyy%2C4io&as=on&as-show=on&otracker=AS_QueryStore_OrganicAutoSuggest_1_3_na_na_na&otracker1=AS_QueryStore_OrganicAutoSuggest_1_3_na_na_na&as-pos=1&as-type=RECENT&suggestionId=samsung+mobiles%7CMobiles&requestId=f9ddc4f9-a40d-46df-860e-c92472ec47b5&as-searchtext=sam\n"
     ]
    }
   ],
   "source": [
    "# giving url of the website\n",
    "my_url=\"https://www.flipkart.com/search?q=samsung+mobiles&sid=tyy%2C4io&as=on&as-show=on&otracker=AS_QueryStore_OrganicAutoSuggest_1_3_na_na_na&otracker1=AS_QueryStore_OrganicAutoSuggest_1_3_na_na_na&as-pos=1&as-type=RECENT&suggestionId=samsung+mobiles%7CMobiles&requestId=f9ddc4f9-a40d-46df-860e-c92472ec47b5&as-searchtext=sam\"\n",
    "print(my_url)"
   ]
  },
  {
   "cell_type": "code",
   "execution_count": 3,
   "id": "solved-preserve",
   "metadata": {},
   "outputs": [
    {
     "name": "stdout",
     "output_type": "stream",
     "text": [
      "<http.client.HTTPResponse object at 0x0000024EE0BD8910>\n"
     ]
    }
   ],
   "source": [
    "# Requesting url\n",
    "urlreq=ureq(my_url)\n",
    "print(urlreq)"
   ]
  },
  {
   "cell_type": "code",
   "execution_count": 4,
   "id": "composed-stadium",
   "metadata": {},
   "outputs": [
    {
     "data": {
      "text/plain": [
       "bytes"
      ]
     },
     "execution_count": 4,
     "metadata": {},
     "output_type": "execute_result"
    }
   ],
   "source": [
    "# Reading the url website in HTML format\n",
    "urlread=urlreq.read()\n",
    "type(urlread)"
   ]
  },
  {
   "cell_type": "code",
   "execution_count": 5,
   "id": "incorrect-bridge",
   "metadata": {},
   "outputs": [],
   "source": [
    "# Closing the url request\n",
    "urlreq.close()"
   ]
  },
  {
   "cell_type": "code",
   "execution_count": 6,
   "id": "inappropriate-range",
   "metadata": {},
   "outputs": [],
   "source": [
    "# Applying bs4 BeautyfulSoup to http data\n",
    "url_soup=BeautifulSoup(urlread,\"html.parser\")"
   ]
  },
  {
   "cell_type": "code",
   "execution_count": 7,
   "id": "listed-island",
   "metadata": {},
   "outputs": [
    {
     "data": {
      "text/plain": [
       "bs4.BeautifulSoup"
      ]
     },
     "execution_count": 7,
     "metadata": {},
     "output_type": "execute_result"
    }
   ],
   "source": [
    "type(url_soup)"
   ]
  },
  {
   "cell_type": "code",
   "execution_count": 8,
   "id": "reverse-eligibility",
   "metadata": {},
   "outputs": [],
   "source": [
    "# Getting all items information\n",
    "containers=url_soup.findAll(\"div\",{\"class\":\"_2kHMtA\"})"
   ]
  },
  {
   "cell_type": "code",
   "execution_count": 9,
   "id": "small-young",
   "metadata": {},
   "outputs": [
    {
     "name": "stdout",
     "output_type": "stream",
     "text": [
      "24\n"
     ]
    }
   ],
   "source": [
    "# get number of items in a page\n",
    "print(len(containers))"
   ]
  },
  {
   "cell_type": "code",
   "execution_count": 10,
   "id": "spatial-reproduction",
   "metadata": {},
   "outputs": [
    {
     "name": "stdout",
     "output_type": "stream",
     "text": [
      "<div class=\"_2kHMtA\">\n",
      " <a class=\"_1fQZEK\" href=\"/samsung-galaxy-m31-ocean-blue-64-gb/p/itm1268b57512fb8?pid=MOBFPNPS6GTGZHE4&amp;lid=LSTMOBFPNPS6GTGZHE48OUZUH&amp;marketplace=FLIPKART&amp;q=samsung+mobiles&amp;store=tyy%2F4io&amp;srno=s_1_3&amp;otracker=AS_QueryStore_OrganicAutoSuggest_1_3_na_na_na&amp;otracker1=AS_QueryStore_OrganicAutoSuggest_1_3_na_na_na&amp;fm=organic&amp;iid=c926b47b-c0ca-4399-b887-3774f9bd4a36.MOBFPNPS6GTGZHE4.SEARCH&amp;ssid=vfvuohw9uo0000001617517762408&amp;qH=0258c7d48242959a\" rel=\"noopener noreferrer\" target=\"_blank\">\n",
      "  <div class=\"MIXNux\">\n",
      "   <div class=\"_2QcLo-\">\n",
      "    <div>\n",
      "     <div class=\"CXW8mj\" style=\"height:200px;width:200px\">\n",
      "      <img alt=\"SAMSUNG Galaxy M31 (Ocean Blue, 64 GB)\" class=\"_396cs4\" src=\"//static-assets-web.flixcart.com/www/linchpin/fk-cp-zion/img/placeholder_fcebae.svg\"/>\n",
      "     </div>\n",
      "    </div>\n",
      "   </div>\n",
      "   <div class=\"_3wLduG\">\n",
      "    <div class=\"_3PzNI-\">\n",
      "     <span class=\"f3A4_V\">\n",
      "      <label class=\"_2iDkf8\">\n",
      "       <input class=\"_30VH1S\" readonly=\"\" type=\"checkbox\"/>\n",
      "       <div class=\"_24_Dny\">\n",
      "       </div>\n",
      "      </label>\n",
      "     </span>\n",
      "     <label class=\"_6Up2sF\">\n",
      "      <span>\n",
      "       Add to Compare\n",
      "      </span>\n",
      "     </label>\n",
      "    </div>\n",
      "   </div>\n",
      "   <div class=\"_2hVSre _3nq8ih\">\n",
      "    <div class=\"_36FSn5\">\n",
      "     <svg class=\"_1l0elc\" height=\"16\" viewbox=\"0 0 20 16\" width=\"16\" xmlns=\"http://www.w3.org/2000/svg\">\n",
      "      <path class=\"eX72wL\" d=\"M8.695 16.682C4.06 12.382 1 9.536 1 6.065 1 3.219 3.178 1 5.95 1c1.566 0 3.069.746 4.05 1.915C10.981 1.745 12.484 1 14.05 1 16.822 1 19 3.22 19 6.065c0 3.471-3.06 6.316-7.695 10.617L10 17.897l-1.305-1.215z\" fill=\"#2874F0\" fill-rule=\"evenodd\" opacity=\".9\" stroke=\"#FFF\">\n",
      "      </path>\n",
      "     </svg>\n",
      "    </div>\n",
      "   </div>\n",
      "  </div>\n",
      "  <div class=\"_3pLy-c row\">\n",
      "   <div class=\"col col-7-12\">\n",
      "    <div class=\"_4rR01T\">\n",
      "     SAMSUNG Galaxy M31 (Ocean Blue, 64 GB)\n",
      "    </div>\n",
      "    <div class=\"gUuXy-\">\n",
      "     <span class=\"_1lRcqv\" id=\"productRating_LSTMOBFPNPS6GTGZHE48OUZUH_MOBFPNPS6GTGZHE4_\">\n",
      "      <div class=\"_3LWZlK\">\n",
      "       4.3\n",
      "       <img class=\"_1wB99o\" src=\"data:image/svg+xml;base64,PHN2ZyB4bWxucz0iaHR0cDovL3d3dy53My5vcmcvMjAwMC9zdmciIHdpZHRoPSIxMyIgaGVpZ2h0PSIxMiI+PHBhdGggZmlsbD0iI0ZGRiIgZD0iTTYuNSA5LjQzOWwtMy42NzQgMi4yMy45NC00LjI2LTMuMjEtMi44ODMgNC4yNTQtLjQwNEw2LjUuMTEybDEuNjkgNC4wMSA0LjI1NC40MDQtMy4yMSAyLjg4Mi45NCA0LjI2eiIvPjwvc3ZnPg==\"/>\n",
      "      </div>\n",
      "     </span>\n",
      "     <span class=\"_2_R_DZ\">\n",
      "      <span>\n",
      "       <span>\n",
      "        8,573 Ratings\n",
      "       </span>\n",
      "       <span class=\"_13vcmD\">\n",
      "        &amp;\n",
      "       </span>\n",
      "       <span>\n",
      "        676 Reviews\n",
      "       </span>\n",
      "      </span>\n",
      "     </span>\n",
      "    </div>\n",
      "    <div class=\"fMghEO\">\n",
      "     <ul class=\"_1xgFaf\">\n",
      "      <li class=\"rgWa7D\">\n",
      "       6 GB RAM | 64 GB ROM | Expandable Upto 512 GB\n",
      "      </li>\n",
      "      <li class=\"rgWa7D\">\n",
      "       16.26 cm (6.4 inch) Full HD+ Display\n",
      "      </li>\n",
      "      <li class=\"rgWa7D\">\n",
      "       64MP + 8MP + 5MP + 5MP | 32MP Front Camera\n",
      "      </li>\n",
      "      <li class=\"rgWa7D\">\n",
      "       6000 mAh Battery\n",
      "      </li>\n",
      "      <li class=\"rgWa7D\">\n",
      "       Samsung Exynos 9 Octa 9611 Processor\n",
      "      </li>\n",
      "      <li class=\"rgWa7D\">\n",
      "       1 year\n",
      "      </li>\n",
      "     </ul>\n",
      "    </div>\n",
      "   </div>\n",
      "   <div class=\"col col-5-12 nlI3QM\">\n",
      "    <div class=\"_3tbKJL\">\n",
      "     <div class=\"_25b18c\">\n",
      "      <div class=\"_30jeq3 _1_WHN1\">\n",
      "       ₹15,473\n",
      "      </div>\n",
      "      <div class=\"_3I9_wc _27UcVY\">\n",
      "       ₹\n",
      "       <!-- -->\n",
      "       15,866\n",
      "      </div>\n",
      "      <div class=\"_3Ay6Sb\">\n",
      "       <span>\n",
      "        2% off\n",
      "       </span>\n",
      "      </div>\n",
      "     </div>\n",
      "    </div>\n",
      "    <div class=\"_13J9qT\">\n",
      "     <img height=\"21\" src=\"//static-assets-web.flixcart.com/www/linchpin/fk-cp-zion/img/fa_62673a.png\"/>\n",
      "    </div>\n",
      "    <div class=\"_2ZdXDB\">\n",
      "     <div class=\"_18hQoS\" style=\"color:#000000;font-size:12px;font-family:inherit;font-weight:normal\">\n",
      "      No Cost EMI\n",
      "     </div>\n",
      "    </div>\n",
      "   </div>\n",
      "  </div>\n",
      " </a>\n",
      "</div>\n"
     ]
    }
   ],
   "source": [
    "# check for one item information in http\n",
    "print(BeautifulSoup.prettify(containers[2]))"
   ]
  },
  {
   "cell_type": "markdown",
   "id": "legislative-speaker",
   "metadata": {},
   "source": [
    "# Checking for one item"
   ]
  },
  {
   "cell_type": "code",
   "execution_count": 11,
   "id": "convertible-capacity",
   "metadata": {},
   "outputs": [],
   "source": [
    "container=containers[12]"
   ]
  },
  {
   "cell_type": "code",
   "execution_count": 12,
   "id": "passive-establishment",
   "metadata": {},
   "outputs": [
    {
     "name": "stdout",
     "output_type": "stream",
     "text": [
      "SAMSUNG Galaxy F41 (Fusion Green, 64 GB)\n"
     ]
    }
   ],
   "source": [
    "# get name of the item\n",
    "print(container.div.img['alt'])"
   ]
  },
  {
   "cell_type": "code",
   "execution_count": 13,
   "id": "automotive-relative",
   "metadata": {
    "scrolled": true
   },
   "outputs": [
    {
     "name": "stdout",
     "output_type": "stream",
     "text": [
      "₹15,499₹19,99922% offNo Cost EMIUpto ₹14,950 Off on Exchange\n"
     ]
    }
   ],
   "source": [
    "# get price of the item\n",
    "price=container.findAll('div',{'class':\"col col-5-12 nlI3QM\"})\n",
    "print(price[0].text)"
   ]
  },
  {
   "cell_type": "code",
   "execution_count": 14,
   "id": "sized-richmond",
   "metadata": {},
   "outputs": [
    {
     "name": "stdout",
     "output_type": "stream",
     "text": [
      "4.32,47,459 Ratings & 29,469 Reviews\n"
     ]
    }
   ],
   "source": [
    " # getting rating of the item\n",
    "rating=container.findAll('div',{'class':\"gUuXy-\"})\n",
    "print(rating[0].text)"
   ]
  },
  {
   "cell_type": "code",
   "execution_count": 15,
   "id": "modern-level",
   "metadata": {},
   "outputs": [],
   "source": [
    "# Creating a file\n",
    "filename='products details.csv'"
   ]
  },
  {
   "cell_type": "code",
   "execution_count": 16,
   "id": "impressive-arkansas",
   "metadata": {},
   "outputs": [],
   "source": [
    "# opening the file with write option\n",
    "f=open(filename,'w')"
   ]
  },
  {
   "cell_type": "code",
   "execution_count": 17,
   "id": "intimate-powell",
   "metadata": {},
   "outputs": [],
   "source": [
    "# giving column names\n",
    "headers=\"product name,product price,product rating\\n\""
   ]
  },
  {
   "cell_type": "code",
   "execution_count": 18,
   "id": "obvious-shannon",
   "metadata": {},
   "outputs": [
    {
     "data": {
      "text/plain": [
       "42"
      ]
     },
     "execution_count": 18,
     "metadata": {},
     "output_type": "execute_result"
    }
   ],
   "source": [
    "# loading into file\n",
    "f.write(headers)"
   ]
  },
  {
   "cell_type": "code",
   "execution_count": 19,
   "id": "executed-giving",
   "metadata": {
    "collapsed": true
   },
   "outputs": [
    {
     "name": "stdout",
     "output_type": "stream",
     "text": [
      "SAMSUNG Galaxy F41 (Fusion Blue, 128 GB),RS.16499,4.32\n",
      "\n",
      "SAMSUNG Galaxy F41 (Fusion Blue, 64 GB),RS.15499,4.32\n",
      "\n",
      "SAMSUNG Galaxy M31 (Ocean Blue, 64 GB),RS.15473,4.38\n",
      "\n",
      "SAMSUNG Galaxy F41 (Fusion Black, 128 GB),RS.16499,4.32\n",
      "\n",
      "SAMSUNG Guru 1200,RS.1312,4.31\n",
      "\n",
      "SAMSUNG Guru 1200,RS.1306,4.31\n",
      "\n",
      "SAMSUNG Galaxy F41 (Fusion Green, 128 GB),RS.16499,4.32\n",
      "\n",
      "SAMSUNG Guru FM Plus SM-B110E/D,RS.1449,4.354\n",
      "\n",
      "SAMSUNG Guru FM Plus SM-B110E/D,RS.1449,4.354\n",
      "\n",
      "SAMSUNG M01 core (Blue, 32 GB),RS.6045,3.96\n",
      "\n",
      "SAMSUNG Guru FM Plus SM-B110E/D,RS.1449,4.354\n",
      "\n",
      "SAMSUNG Galaxy F41 (Fusion Black, 64 GB),RS.15499,4.32\n",
      "\n",
      "SAMSUNG Galaxy F41 (Fusion Green, 64 GB),RS.15499,4.32\n",
      "\n",
      "SAMSUNG Guru 1200,RS.1356,4.31\n",
      "\n",
      "SAMSUNG M01 core (Black, 32 GB),RS.6040,3.96\n",
      "\n",
      "SAMSUNG Galaxy M01 (Black, 32 GB),RS.7899,4.217\n",
      "\n",
      "SAMSUNG Guru GT,RS.1314,4.13\n",
      "\n",
      "SAMSUNG Guru Music 2 SM-B310E,RS.1856,4.25\n",
      "\n",
      "SAMSUNG Guru Music 2,RS.1882,4.31\n",
      "\n",
      "SAMSUNG Galaxy A12 (Black, 128 GB),RS.13999,4.2655\n",
      "\n",
      "SAMSUNG Metro 313 Dual Sim,RS.2295,4.311\n",
      "\n",
      "SAMSUNG Metro 313 Dual Sim,RS.2266,4.320\n",
      "\n",
      "SAMSUNG Galaxy A52 (Awesome Blue, 128 GB),RS.26499,4.638\n",
      "\n",
      "SAMSUNG Galaxy A52 (Awesome Blue, 128 GB),RS.27999,4.628\n",
      "\n"
     ]
    }
   ],
   "source": [
    "\n",
    "for i in containers:\n",
    "    name=i.div.img['alt']\n",
    "    #print(name)\n",
    "    price=i.findAll('div',{'class':\"col col-5-12 nlI3QM\"})\n",
    "    product_price=price[0].text\n",
    "    #print(product_price)\n",
    "    price_split1=''.join(product_price.split(','))\n",
    "    price_split2=price_split1.split('₹')\n",
    "    final_price='RS.'+price_split2[1]\n",
    "    final_price1=final_price.split('N')\n",
    "    final_price2=final_price1[0]\n",
    "    #print(final_price2)\n",
    "    rating=i.findAll('div',{'class':\"gUuXy-\"})\n",
    "    product_rating=rating[0].text\n",
    "    #print(product_rating)\n",
    "    product_rating_split=product_rating.split(',')\n",
    "    final_rating=product_rating_split[0]\n",
    "    rate=final_rating.split(' ')\n",
    "    final_rating=rate[0]\n",
    "    #print(final_rating)\n",
    "    print(name+ \",\" + final_price2 + \",\" + final_rating + \"\\n\")\n",
    "    f.write(name+ \",\" + final_price2 + \",\" + final_rating + \"\\n\")\n",
    "f.close()"
   ]
  },
  {
   "cell_type": "code",
   "execution_count": null,
   "id": "frequent-signal",
   "metadata": {},
   "outputs": [],
   "source": []
  },
  {
   "cell_type": "code",
   "execution_count": null,
   "id": "moderate-container",
   "metadata": {},
   "outputs": [],
   "source": []
  }
 ],
 "metadata": {
  "kernelspec": {
   "display_name": "Python 3",
   "language": "python",
   "name": "python3"
  },
  "language_info": {
   "codemirror_mode": {
    "name": "ipython",
    "version": 3
   },
   "file_extension": ".py",
   "mimetype": "text/x-python",
   "name": "python",
   "nbconvert_exporter": "python",
   "pygments_lexer": "ipython3",
   "version": "3.8.8"
  }
 },
 "nbformat": 4,
 "nbformat_minor": 5
}
